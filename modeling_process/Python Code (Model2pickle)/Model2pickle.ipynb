{
 "cells": [
  {
   "cell_type": "code",
   "execution_count": null,
   "metadata": {},
   "outputs": [],
   "source": [
    "import pandas as pd\n",
    "\n",
    "# 검진조사, 건강설문조사, 영양조사\n",
    "data1 = pd.read_sas('hn16_all.sas7bdat')\n",
    "\n",
    "# 식품섭취빈도조사\n",
    "data2 = pd.read_sas('hn16_ffq.sas7bdat')\n",
    "\n",
    "# 식품섭취조사\n",
    "data3 = pd.read_sas('hn16_24rc.sas7bdat')\n",
    "\n",
    "data1.shape, data2.shape, data3.shape"
   ]
  },
  {
   "cell_type": "code",
   "execution_count": null,
   "metadata": {},
   "outputs": [],
   "source": [
    "data = pd.concat([data1, data2], axis=1)\n",
    "data.shape"
   ]
  },
  {
   "cell_type": "code",
   "execution_count": null,
   "metadata": {},
   "outputs": [],
   "source": [
    "data = data.loc[:,~data.columns.duplicated()]\n",
    "data.shape"
   ]
  },
  {
   "cell_type": "code",
   "execution_count": null,
   "metadata": {},
   "outputs": [],
   "source": [
    "colname_list = ['FF_PIZZA','FF_HAMBER','FF_F_CHIC','FF_INSTNO','FF_ICECM','FF_SNACK',\n",
    "               'FF_CHOCO','FF_MILK','FF_SOJU','FF_BEER','FF_RWINE','FF_SPROU',\n",
    "               'FF_VSALAD','FF_F_EGG','FF_MACKER','FF_J_SOYP','FF_J_KIMC','BE5_1','BE3_31',\n",
    "               'BE8_1','BE8_2','age','HE_ht','HE_wt']\n",
    "\n",
    "data = data.loc[:,colname_list]\n",
    "data.shape"
   ]
  },
  {
   "cell_type": "code",
   "execution_count": null,
   "metadata": {},
   "outputs": [],
   "source": [
    "data = data.loc[(data['age'] >= 19) & (data['age'] <= 39), :]\n",
    "data.shape"
   ]
  },
  {
   "cell_type": "code",
   "execution_count": null,
   "metadata": {},
   "outputs": [],
   "source": [
    "data['BMI'] = data['HE_wt'] / (data['HE_ht']/100)**2\n",
    "data.shape"
   ]
  },
  {
   "cell_type": "code",
   "execution_count": null,
   "metadata": {},
   "outputs": [],
   "source": [
    "'''data.loc[data['BMI'] < 30, 'BMI'] = 0\n",
    "data.loc[data['BMI'] >= 30, 'BMI'] = 1\n",
    "data['BMI'].value_counts()'''"
   ]
  },
  {
   "cell_type": "code",
   "execution_count": null,
   "metadata": {},
   "outputs": [],
   "source": [
    "import numpy as np\n",
    "\n",
    "for name in list(data.columns):\n",
    "    data[[name]] = data[[name]].replace({88:np.nan, 99:np.nan, \n",
    "                                         8:np.nan, 9:np.nan})"
   ]
  },
  {
   "cell_type": "code",
   "execution_count": null,
   "metadata": {},
   "outputs": [],
   "source": [
    "#data.dropna(inplace=True)\n",
    "data.shape"
   ]
  },
  {
   "cell_type": "code",
   "execution_count": null,
   "metadata": {},
   "outputs": [],
   "source": [
    "#data.to_csv('data.csv')"
   ]
  },
  {
   "cell_type": "code",
   "execution_count": null,
   "metadata": {},
   "outputs": [],
   "source": [
    "data['Sittime'] = data['BE8_1'] * 60 + data['BE8_2'] \n",
    "data.shape"
   ]
  },
  {
   "cell_type": "code",
   "execution_count": null,
   "metadata": {},
   "outputs": [],
   "source": [
    "data.drop(['age','HE_ht','HE_wt', 'BE8_1', 'BE8_2'],axis=1,inplace=True)\n",
    "data.shape"
   ]
  },
  {
   "cell_type": "code",
   "execution_count": null,
   "metadata": {},
   "outputs": [],
   "source": [
    "#근력운동 일수 [BE5_1] - 전처리 필요X\n",
    "#1주일간 걷기 일수 [BE3_31]\n",
    "data['BE3_31'].replace({7:6, 8:6}, inplace=True)\n",
    "data['BE3_31'].value_counts()"
   ]
  },
  {
   "cell_type": "code",
   "execution_count": null,
   "metadata": {},
   "outputs": [],
   "source": [
    "#앉아서 보내는 시간[Sittime]\n",
    "data.loc[(0 <= data['Sittime'])  &  (data['Sittime'] < 180), 'Sittime'] = 1\n",
    "data.loc[(180 <= data['Sittime'])  &  (data['Sittime'] < 360), 'Sittime'] = 2\n",
    "data.loc[(360 <= data['Sittime'])  &  (data['Sittime'] < 540), 'Sittime'] = 3\n",
    "data.loc[(540 <= data['Sittime'])  &  (data['Sittime'] < 720), 'Sittime'] = 4\n",
    "data.loc[(720 <= data['Sittime'])  &  (data['Sittime'] < 900), 'Sittime'] = 5\n",
    "data.loc[(900 <= data['Sittime']), 'Sittime'] = 6\n",
    "\n",
    "data['Sittime'].value_counts()"
   ]
  },
  {
   "cell_type": "code",
   "execution_count": null,
   "metadata": {},
   "outputs": [],
   "source": [
    "df = data.copy()\n",
    "df.shape"
   ]
  },
  {
   "cell_type": "markdown",
   "metadata": {},
   "source": [
    "# Train / Test"
   ]
  },
  {
   "cell_type": "code",
   "execution_count": null,
   "metadata": {},
   "outputs": [],
   "source": [
    "# 독립변수와 종속변수 분류\n",
    "X = df.drop('BMI',axis=1)\n",
    "y = df[['BMI']]\n",
    "print(X.shape, y.shape)"
   ]
  },
  {
   "cell_type": "code",
   "execution_count": null,
   "metadata": {},
   "outputs": [],
   "source": [
    "# train vs test 나누기\n",
    "from sklearn.model_selection import train_test_split\n",
    "train_x, test_x, train_y, test_y = train_test_split(X, y, test_size = 0.3, random_state = 0) \n",
    "print(train_x.shape, test_x.shape, train_y.shape, test_y.shape)"
   ]
  },
  {
   "cell_type": "code",
   "execution_count": null,
   "metadata": {},
   "outputs": [],
   "source": [
    "train = pd.concat([train_x, train_y], axis=1)\n",
    "train.shape"
   ]
  },
  {
   "cell_type": "code",
   "execution_count": null,
   "metadata": {},
   "outputs": [],
   "source": [
    "train.to_csv('rf.csv')"
   ]
  },
  {
   "cell_type": "markdown",
   "metadata": {},
   "source": [
    "# RF"
   ]
  },
  {
   "cell_type": "code",
   "execution_count": null,
   "metadata": {},
   "outputs": [],
   "source": [
    "from sklearn.ensemble import RandomForestRegressor\n",
    "from sklearn.model_selection import KFold, GridSearchCV\n",
    "\n",
    "#최적 파라미터 값 찾기\n",
    "params = [{'n_estimators': [3, 10, 30], 'max_features': [2, 4, 6, 8]},\n",
    "        {'bootstrap': [False], 'n_estimators': [3, 10], 'max_features': [2, 3, 4]}]\n",
    "\n",
    "rf_clf = RandomForestRegressor(random_state = 0, n_jobs = -1)\n",
    "grid_cv = GridSearchCV(rf_clf, param_grid = params, cv = 3, scoring='neg_mean_squared_error', n_jobs = -1)\n",
    "grid_cv.fit(train_x, train_y)\n",
    "\n",
    "print('최적 하이퍼 파라미터: ', grid_cv.best_params_)"
   ]
  },
  {
   "cell_type": "code",
   "execution_count": null,
   "metadata": {},
   "outputs": [],
   "source": [
    "from sklearn.ensemble import RandomForestRegressor\n",
    "regr = RandomForestRegressor(bootstrap = True, max_features = 2, n_estimators = 30, random_state=0)\n",
    "regr.fit(train_x, train_y)"
   ]
  },
  {
   "cell_type": "code",
   "execution_count": null,
   "metadata": {
    "scrolled": false
   },
   "outputs": [],
   "source": [
    "mse_list = []\n",
    "for i in range(0, test_x.shape[0]):\n",
    "    mse_list.append((abs(float(test_y.iloc[i,:]) - float(regr.predict([test_x.iloc[i,]])))) ** 2)\n",
    "    \n",
    "sum(mse_list) / test_x.shape[0]"
   ]
  },
  {
   "cell_type": "code",
   "execution_count": null,
   "metadata": {},
   "outputs": [],
   "source": [
    "perfo_df = pd.DataFrame(columns=['y', 'pred_y'])\n",
    "for i in range(0, test_x.shape[0]):\n",
    "    perfo_df = perfo_df.append(pd.DataFrame([[float(test_y.iloc[i,:]), float(regr.predict([test_x.iloc[i,]]))]], columns=['y', 'pred_y']), ignore_index=True)\n",
    "#df.set_index('idx', inplace=True)\n",
    "perfo_df"
   ]
  },
  {
   "cell_type": "code",
   "execution_count": null,
   "metadata": {},
   "outputs": [],
   "source": [
    "perfo_df.sort_values(by='pred_y').tail(30)"
   ]
  },
  {
   "cell_type": "markdown",
   "metadata": {},
   "source": [
    "# pickle"
   ]
  },
  {
   "cell_type": "code",
   "execution_count": null,
   "metadata": {},
   "outputs": [],
   "source": [
    "import pickle\n",
    "\n",
    "with open('./regr.pkl', 'wb') as f:\n",
    "    pickle.dump(regr, f)"
   ]
  },
  {
   "cell_type": "code",
   "execution_count": null,
   "metadata": {},
   "outputs": [],
   "source": [
    "with open('regr.pkl', 'rb') as f:\n",
    "    data = pickle.load(f)"
   ]
  }
 ],
 "metadata": {
  "kernelspec": {
   "display_name": "Python 3",
   "language": "python",
   "name": "python3"
  },
  "language_info": {
   "codemirror_mode": {
    "name": "ipython",
    "version": 3
   },
   "file_extension": ".py",
   "mimetype": "text/x-python",
   "name": "python",
   "nbconvert_exporter": "python",
   "pygments_lexer": "ipython3",
   "version": "3.8.5"
  }
 },
 "nbformat": 4,
 "nbformat_minor": 4
}

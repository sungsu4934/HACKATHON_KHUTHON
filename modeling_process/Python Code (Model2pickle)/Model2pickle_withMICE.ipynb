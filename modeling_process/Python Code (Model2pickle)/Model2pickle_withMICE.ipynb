{
 "cells": [
  {
   "cell_type": "code",
   "execution_count": null,
   "metadata": {},
   "outputs": [],
   "source": [
    "import pandas as pd\n",
    "\n",
    "data = pd.read_csv('df_mice.csv')\n",
    "data = data.iloc[:,1:]\n",
    "data.shape"
   ]
  },
  {
   "cell_type": "code",
   "execution_count": null,
   "metadata": {},
   "outputs": [],
   "source": [
    "data['Sittime'] = data['BE8_1'] * 60 + data['BE8_2'] \n",
    "data.shape"
   ]
  },
  {
   "cell_type": "code",
   "execution_count": null,
   "metadata": {},
   "outputs": [],
   "source": [
    "data.drop(['age','HE_ht','HE_wt', 'BE8_1', 'BE8_2'],axis=1,inplace=True)\n",
    "data.shape"
   ]
  },
  {
   "cell_type": "code",
   "execution_count": null,
   "metadata": {},
   "outputs": [],
   "source": [
    "#근력운동 일수 [BE5_1] - 전처리 필요X"
   ]
  },
  {
   "cell_type": "code",
   "execution_count": null,
   "metadata": {},
   "outputs": [],
   "source": [
    "#1주일간 걷기 일수 [BE3_31]\n",
    "data['BE3_31'].replace({7:6, 8:6}, inplace=True)\n",
    "data['BE3_31'].value_counts()"
   ]
  },
  {
   "cell_type": "code",
   "execution_count": null,
   "metadata": {},
   "outputs": [],
   "source": [
    "#앉아서 보내는 시간[Sittime]\n",
    "data.loc[(0 <= data['Sittime'])  &  (data['Sittime'] < 180), 'Sittime'] = 1\n",
    "data.loc[(180 <= data['Sittime'])  &  (data['Sittime'] < 360), 'Sittime'] = 2\n",
    "data.loc[(360 <= data['Sittime'])  &  (data['Sittime'] < 540), 'Sittime'] = 3\n",
    "data.loc[(540 <= data['Sittime'])  &  (data['Sittime'] < 720), 'Sittime'] = 4\n",
    "data.loc[(720 <= data['Sittime'])  &  (data['Sittime'] < 900), 'Sittime'] = 5\n",
    "data.loc[(900 <= data['Sittime']), 'Sittime'] = 6\n",
    "\n",
    "data['Sittime'].value_counts()"
   ]
  },
  {
   "cell_type": "code",
   "execution_count": null,
   "metadata": {},
   "outputs": [],
   "source": [
    "df = data.copy()\n",
    "df.shape"
   ]
  },
  {
   "cell_type": "code",
   "execution_count": null,
   "metadata": {},
   "outputs": [],
   "source": [
    "alpha = 0.02\n",
    "low_limit = df.BMI.quantile(alpha)\n",
    "high_limit = df.BMI.quantile(1-alpha)\n",
    "BMI_trim = df[(df.BMI > low_limit) & (df.BMI < high_limit)]\n",
    "BMI_trim['BMI'].describe()"
   ]
  },
  {
   "cell_type": "code",
   "execution_count": null,
   "metadata": {},
   "outputs": [],
   "source": [
    "df['BMI'].sort_values().tail()"
   ]
  },
  {
   "cell_type": "code",
   "execution_count": null,
   "metadata": {},
   "outputs": [],
   "source": [
    "'''df.loc[df['BMI'] < 18.5, 'BMI'] = 0\n",
    "df.loc[df['BMI'] >= 18.5, 'BMI'] = 1\n",
    "df['BMI'].value_counts()'''"
   ]
  },
  {
   "cell_type": "markdown",
   "metadata": {},
   "source": [
    "# Train / Test"
   ]
  },
  {
   "cell_type": "code",
   "execution_count": null,
   "metadata": {},
   "outputs": [],
   "source": [
    "# 독립변수와 종속변수 분류\n",
    "X = df.drop('BMI',axis=1)\n",
    "y = df[['BMI']]\n",
    "print(X.shape, y.shape)"
   ]
  },
  {
   "cell_type": "code",
   "execution_count": null,
   "metadata": {},
   "outputs": [],
   "source": [
    "# train vs test 나누기\n",
    "from sklearn.model_selection import train_test_split\n",
    "train_x, test_x, train_y, test_y = train_test_split(X, y, test_size = 0.3, random_state = 0) \n",
    "print(train_x.shape, test_x.shape, train_y.shape, test_y.shape)"
   ]
  },
  {
   "cell_type": "code",
   "execution_count": null,
   "metadata": {},
   "outputs": [],
   "source": [
    "train = pd.concat([train_x, train_y], axis=1)\n",
    "train.shape"
   ]
  },
  {
   "cell_type": "code",
   "execution_count": null,
   "metadata": {},
   "outputs": [],
   "source": [
    "#train.to_csv('rf1.csv')"
   ]
  },
  {
   "cell_type": "markdown",
   "metadata": {},
   "source": [
    "# RF"
   ]
  },
  {
   "cell_type": "code",
   "execution_count": null,
   "metadata": {},
   "outputs": [],
   "source": [
    "from sklearn.ensemble import RandomForestRegressor\n",
    "from sklearn.model_selection import KFold, GridSearchCV\n",
    "#rf = RandomForestClassifier(n_estimators=100, oob_score=True, random_state=123456)\n",
    "#rf.fit(X_train, y_train)\n",
    "\n",
    "#최적 파라미터 값 찾기\n",
    "params = [\n",
    "        {'n_estimators': [3, 10, 30], 'max_features': [2, 4, 6, 8]},\n",
    "        {'bootstrap': [False], 'n_estimators': [3, 10], 'max_features': [2, 3, 4]},\n",
    "    ]\n",
    "#params =  {'n_estimators': [3, 10, 30], 'max_features': [2, 4, 6, 8],\n",
    "#        'bootstrap': [False], 'n_estimators': [3, 10], 'max_features': [2, 3, 4]}\n",
    "rf_clf = RandomForestRegressor(random_state = 0, n_jobs = -1)\n",
    "grid_cv = GridSearchCV(rf_clf, param_grid = params, cv = 3, scoring='neg_mean_squared_error', n_jobs = -1)\n",
    "grid_cv.fit(train_x, train_y)\n",
    "\n",
    "print('최적 하이퍼 파라미터: ', grid_cv.best_params_)\n",
    "print('최고 예측 정확도: {:.4f}'.format(grid_cv.best_score_))"
   ]
  },
  {
   "cell_type": "code",
   "execution_count": null,
   "metadata": {},
   "outputs": [],
   "source": [
    "from sklearn.ensemble import RandomForestRegressor\n",
    "regr = RandomForestRegressor(bootstrap = True, max_features = 2, n_estimators = 30, random_state=0)\n",
    "regr.fit(train_x, train_y)"
   ]
  },
  {
   "cell_type": "code",
   "execution_count": null,
   "metadata": {
    "scrolled": false
   },
   "outputs": [],
   "source": [
    "mse_list = []\n",
    "for i in range(0, test_x.shape[0]):\n",
    "    mse_list.append((abs(float(test_y.iloc[i,:]) - float(regr.predict([test_x.iloc[i,]])))) ** 2)\n",
    "    \n",
    "sum(mse_list) / test_x.shape[0]"
   ]
  },
  {
   "cell_type": "code",
   "execution_count": null,
   "metadata": {},
   "outputs": [],
   "source": [
    "perfo_df = pd.DataFrame(columns=['y', 'pred_y'])\n",
    "for i in range(0, test_x.shape[0]):\n",
    "    perfo_df = perfo_df.append(pd.DataFrame([[float(train_y.iloc[i,:]), float(regr.predict([train_x.iloc[i,]]))]], columns=['y', 'pred_y']), ignore_index=True)\n",
    "#df.set_index('idx', inplace=True)\n",
    "perfo_df"
   ]
  },
  {
   "cell_type": "code",
   "execution_count": null,
   "metadata": {
    "scrolled": true
   },
   "outputs": [],
   "source": [
    "perfo_df.sort_values(by='pred_y').tail(30)"
   ]
  },
  {
   "cell_type": "code",
   "execution_count": null,
   "metadata": {},
   "outputs": [],
   "source": [
    "import numpy as np\n",
    "\n",
    "output_list = []\n",
    "for i in range(0,1000):\n",
    "    input1 = np.array(X.iloc[i,:])\n",
    "    input1 = input1.reshape(1,-1)\n",
    "    input1\n",
    "\n",
    "    output_list.append(regr.predict(input1))"
   ]
  },
  {
   "cell_type": "code",
   "execution_count": null,
   "metadata": {},
   "outputs": [],
   "source": [
    "print(output_list.index(max0))\n",
    "print(output_list.index(max1))\n",
    "print(output_list.index(max2))\n",
    "print(output_list.index(max3))\n",
    "print(output_list.index(max4))\n",
    "print(output_list.index(max5))"
   ]
  },
  {
   "cell_type": "code",
   "execution_count": null,
   "metadata": {},
   "outputs": [],
   "source": [
    "output_list.sort(reverse=True)\n",
    "max0 = output_list[0]\n",
    "max1 = output_list[1]\n",
    "max2 = output_list[2]\n",
    "max3 = output_list[3]\n",
    "max4 = output_list[4]\n",
    "max5 = output_list[5]\n",
    "#x = output_list[1]"
   ]
  },
  {
   "cell_type": "code",
   "execution_count": null,
   "metadata": {},
   "outputs": [],
   "source": [
    "import numpy as np\n",
    "regr.predict(input1)"
   ]
  },
  {
   "cell_type": "markdown",
   "metadata": {},
   "source": [
    "# SVM"
   ]
  },
  {
   "cell_type": "code",
   "execution_count": null,
   "metadata": {},
   "outputs": [],
   "source": [
    "from sklearn.svm import SVR\n",
    "from sklearn.model_selection import GridSearchCV\n",
    "\n",
    "param = {'kernel' : ('linear', 'poly', 'rbf', 'sigmoid'),\n",
    "         'C' : [1,5,10],\n",
    "         'degree' : [3,8],\n",
    "         'coef0' : [0.01,10,0.5],\n",
    "         'gamma' : ('auto','scale')},\n",
    "\n",
    "model_svr = SVR()\n",
    "\n",
    "\n",
    "grid_search = GridSearchCV(model_svr ,param_grid = param, cv=3, return_train_score = True)\n",
    "grid_search.fit(train_x, train_y)\n",
    "\n",
    "print('최적 하이퍼 파라미터: ', grid_search.best_params_)\n",
    "#print('최고 예측 정확도: {:.4f}'.format(grid_search.best_score_))"
   ]
  },
  {
   "cell_type": "code",
   "execution_count": null,
   "metadata": {},
   "outputs": [],
   "source": [
    "from sklearn.svm import SVR\n",
    "svr = SVR(kernel='rbf', C=1, degree=3, coef0=0.01, gamma='auto')\n",
    "svr.fit(train_x, train_y)"
   ]
  },
  {
   "cell_type": "code",
   "execution_count": null,
   "metadata": {
    "scrolled": false
   },
   "outputs": [],
   "source": [
    "mse_list = []\n",
    "for i in range(0, test_x.shape[0]):\n",
    "    mse_list.append((abs(float(test_y.iloc[i,:]) - float(svr.predict([test_x.iloc[i,]])))) ** 2)\n",
    "    \n",
    "sum(mse_list) / test_x.shape[0]"
   ]
  },
  {
   "cell_type": "code",
   "execution_count": null,
   "metadata": {},
   "outputs": [],
   "source": [
    "perfo_df = pd.DataFrame(columns=['y', 'pred_y'])\n",
    "for i in range(0, test_x.shape[0]):\n",
    "    perfo_df = perfo_df.append(pd.DataFrame([[float(test_y.iloc[i,:]), float(svr.predict([test_x.iloc[i,]]))]], columns=['y', 'pred_y']), ignore_index=True)\n",
    "#df.set_index('idx', inplace=True)\n",
    "perfo_df"
   ]
  },
  {
   "cell_type": "code",
   "execution_count": null,
   "metadata": {
    "scrolled": true
   },
   "outputs": [],
   "source": [
    "perfo_df.sort_values(by='pred_y').tail(30)"
   ]
  },
  {
   "cell_type": "markdown",
   "metadata": {},
   "source": [
    "# pickle"
   ]
  },
  {
   "cell_type": "code",
   "execution_count": null,
   "metadata": {},
   "outputs": [],
   "source": [
    "import pickle\n",
    "\n",
    "with open('./regr.pkl', 'wb') as f:\n",
    "    pickle.dump(regr, f)"
   ]
  },
  {
   "cell_type": "code",
   "execution_count": null,
   "metadata": {},
   "outputs": [],
   "source": [
    "with open('regr.pkl', 'rb') as f:\n",
    "    data = pickle.load(f)"
   ]
  }
 ],
 "metadata": {
  "kernelspec": {
   "display_name": "Python 3",
   "language": "python",
   "name": "python3"
  },
  "language_info": {
   "codemirror_mode": {
    "name": "ipython",
    "version": 3
   },
   "file_extension": ".py",
   "mimetype": "text/x-python",
   "name": "python",
   "nbconvert_exporter": "python",
   "pygments_lexer": "ipython3",
   "version": "3.8.5"
  }
 },
 "nbformat": 4,
 "nbformat_minor": 4
}
